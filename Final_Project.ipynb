{
  "nbformat": 4,
  "nbformat_minor": 0,
  "metadata": {
    "colab": {
      "name": "Final Project.ipynb",
      "provenance": [],
      "collapsed_sections": [],
      "include_colab_link": true
    },
    "kernelspec": {
      "name": "python3",
      "display_name": "Python 3"
    },
    "language_info": {
      "name": "python"
    }
  },
  "cells": [
    {
      "cell_type": "markdown",
      "metadata": {
        "id": "view-in-github",
        "colab_type": "text"
      },
      "source": [
        "<a href=\"https://colab.research.google.com/github/d-jenkins/NBA_Champs/blob/main/Final_Project.ipynb\" target=\"_parent\"><img src=\"https://colab.research.google.com/assets/colab-badge.svg\" alt=\"Open In Colab\"/></a>"
      ]
    },
    {
      "cell_type": "code",
      "metadata": {
        "id": "mZadtRodBYZZ"
      },
      "source": [
        "# import all libraries needed\n",
        "import pandas as pd\n",
        "import numpy as np\n",
        "from bs4 import BeautifulSoup as bs\n",
        "from bs4 import Comment\n",
        "import requests\n",
        "import json\n"
      ],
      "execution_count": 7,
      "outputs": []
    },
    {
      "cell_type": "code",
      "metadata": {
        "id": "7iPWquDHK0ae",
        "colab": {
          "base_uri": "https://localhost:8080/"
        },
        "outputId": "e82f8bcd-b946-4c16-81dc-58318006dfe1"
      },
      "source": [
        "# list holding abbviations for all nba teams to create urls\n",
        "teams = ['ATL', 'NJN', 'BOS', 'CHA', 'CHI', \n",
        "         'CLE', 'DAL', 'DEN', 'DET', 'GSW', \n",
        "         'HOU', 'IND', 'LAC', 'LAL', 'MEM', \n",
        "         'MIA', 'MIL', 'MIN', 'NOH', 'NYK', \n",
        "         'OKC', 'ORL', 'PHI', 'PHO', 'POR', \n",
        "         'SAC', 'SAS', 'TOR', 'UTA', 'WAS']\n",
        "\n",
        "# array to hold all tables for all teams for all seasons\n",
        "every_season = []\n",
        "\n",
        "# iterate through list of all team abbreviations\n",
        "for team in teams:\n",
        "\n",
        "  print(team)\n",
        "\n",
        "  # create url to scrape for team\n",
        "  url = f'https://www.basketball-reference.com/teams/{team}'\n",
        "\n",
        "  # scrape teams stats from their bball reference page\n",
        "  stats = pd.read_html(url)[0]\n",
        "\n",
        "  # select only the desired columns \n",
        "  stats = stats[[\"Team\", \"Season\", \"Rel Pace\", \"Rel ORtg\", \"Rel DRtg\", \"Playoffs\"]]\n",
        "\n",
        "  # select only seasons since 80s except for 2020-21 and reset index\n",
        "  stats = stats.iloc[1:42, :].reset_index(drop=True)\n",
        "\n",
        "  # remove asterisk from team name\n",
        "  def rename(team): return(team.replace(\"*\", \"\"))\n",
        "  stats[\"Team\"] = stats[\"Team\"].apply(rename)\n",
        "\n",
        "\n",
        "  categories = ['Age', 'Ht.', 'Wt.', 'FGA', \n",
        "                'FG%', '3PA', '3P%', '2PA', \n",
        "                '2P%', 'FTA', 'FT%', 'ORB', \n",
        "                'DRB', 'AST', 'STL', 'BLK', \n",
        "                'TOV', 'PF', 'PTS']\n",
        "\n",
        "\n",
        "\n",
        "  url = f'https://www.basketball-reference.com/teams/{team}/stats_basic_totals.html'\n",
        "\n",
        "  playoffs = {np.nan: 0, \n",
        "              'Lost E. Conf. 1st Rnd.': 1,\n",
        "              'Lost W. Conf. 1st Rnd.': 1,\n",
        "              'Won E. Conf. 1st Rnd.' : 2,\n",
        "              'Won W. Conf. 1st Rnd.' : 2,\n",
        "              'Lost Quarterfinals': 2,\n",
        "              'Lost E. Conf. Semis': 2,\n",
        "              'Lost E. Div. Semis': 2,\n",
        "              'Lost W. Conf. Semis': 2,  \n",
        "              'Lost W. Div. Semis': 2, \n",
        "              'Lost E. Conf. Finals': 3,\n",
        "              'Lost E. Div. Finals': 3,\n",
        "              'Lost W. Conf. Finals': 3,\n",
        "              'Lost W. Div. Finals': 3, \n",
        "              'Lost Finals': 4, \n",
        "              'Won Finals': 5}\n",
        "\n",
        "  stats[\"Playoffs\"] = stats[\"Playoffs\"].map(playoffs)\n",
        "\n",
        "  more_stats = pd.read_html(url)[0][categories]\n",
        "\n",
        "  # select only seasons since 80s except for 2020-21\n",
        "  more_stats = more_stats.iloc[1:43, :]\n",
        "\n",
        "  # remove dumb rows that restate stat categories and set index\n",
        "  more_stats = more_stats.loc[more_stats['PTS'] != 'PTS', :].reset_index(drop=True)\n",
        "\n",
        "  more_stats['Ht.'] = more_stats['Ht.'].apply(lambda h: round(int(h.replace('6-', ''))/12 + 6, 3))\n",
        "\n",
        "  stats = pd.merge(stats, more_stats, left_index=True, right_index=True)\n",
        "\n",
        "\n",
        "  # add table of teams stats to a list of tables holding all teams stats\n",
        "  every_season.append(stats)\n",
        "\n",
        "# combine all teams stats into one dataframe\n",
        "all_stats = pd.concat(every_season).reset_index(drop=True)\n",
        "\n"
      ],
      "execution_count": 28,
      "outputs": [
        {
          "output_type": "stream",
          "text": [
            "ATL\n",
            "NJN\n",
            "BOS\n",
            "CHA\n",
            "CHI\n",
            "CLE\n",
            "DAL\n",
            "DEN\n",
            "DET\n",
            "GSW\n",
            "HOU\n",
            "IND\n",
            "LAC\n",
            "LAL\n",
            "MEM\n",
            "MIA\n",
            "MIL\n",
            "MIN\n",
            "NOH\n",
            "NYK\n",
            "OKC\n",
            "ORL\n",
            "PHI\n",
            "PHO\n",
            "POR\n",
            "SAC\n",
            "SAS\n",
            "TOR\n",
            "UTA\n",
            "WAS\n"
          ],
          "name": "stdout"
        }
      ]
    },
    {
      "cell_type": "code",
      "metadata": {
        "colab": {
          "base_uri": "https://localhost:8080/",
          "height": 657
        },
        "id": "2AwRWfuD61jK",
        "outputId": "3e8655cd-72db-4da0-8fce-860559375e0f"
      },
      "source": [
        "seasons = all_stats[\"Season\"].unique()\n",
        "\n",
        "all_rel_stats = all_stats.copy()\n",
        "all_rel_stats.set_index('Season', inplace=True)\n",
        "\n",
        "for season in seasons:\n",
        "  for category in categories:\n",
        "    avg = round(pd.to_numeric(all_stats.loc[all_stats[\"Season\"] == season, :][category]).mean(), 3)\n",
        "    all_rel_stats.loc[season, category] = all_rel_stats.loc[season, category].apply(lambda x: float(x)- avg)\n",
        "    # print(f'{season} {category}: {avg}')\n",
        "\n",
        "all_rel_stats\n",
        "\n"
      ],
      "execution_count": 60,
      "outputs": [
        {
          "output_type": "execute_result",
          "data": {
            "text/html": [
              "<div>\n",
              "<style scoped>\n",
              "    .dataframe tbody tr th:only-of-type {\n",
              "        vertical-align: middle;\n",
              "    }\n",
              "\n",
              "    .dataframe tbody tr th {\n",
              "        vertical-align: top;\n",
              "    }\n",
              "\n",
              "    .dataframe thead th {\n",
              "        text-align: right;\n",
              "    }\n",
              "</style>\n",
              "<table border=\"1\" class=\"dataframe\">\n",
              "  <thead>\n",
              "    <tr style=\"text-align: right;\">\n",
              "      <th></th>\n",
              "      <th>Team</th>\n",
              "      <th>Rel Pace</th>\n",
              "      <th>Rel ORtg</th>\n",
              "      <th>Rel DRtg</th>\n",
              "      <th>Playoffs</th>\n",
              "      <th>Age</th>\n",
              "      <th>Ht.</th>\n",
              "      <th>Wt.</th>\n",
              "      <th>FGA</th>\n",
              "      <th>FG%</th>\n",
              "      <th>3PA</th>\n",
              "      <th>3P%</th>\n",
              "      <th>2PA</th>\n",
              "      <th>2P%</th>\n",
              "      <th>FTA</th>\n",
              "      <th>FT%</th>\n",
              "      <th>ORB</th>\n",
              "      <th>DRB</th>\n",
              "      <th>AST</th>\n",
              "      <th>STL</th>\n",
              "      <th>BLK</th>\n",
              "      <th>TOV</th>\n",
              "      <th>PF</th>\n",
              "      <th>PTS</th>\n",
              "    </tr>\n",
              "    <tr>\n",
              "      <th>Season</th>\n",
              "      <th></th>\n",
              "      <th></th>\n",
              "      <th></th>\n",
              "      <th></th>\n",
              "      <th></th>\n",
              "      <th></th>\n",
              "      <th></th>\n",
              "      <th></th>\n",
              "      <th></th>\n",
              "      <th></th>\n",
              "      <th></th>\n",
              "      <th></th>\n",
              "      <th></th>\n",
              "      <th></th>\n",
              "      <th></th>\n",
              "      <th></th>\n",
              "      <th></th>\n",
              "      <th></th>\n",
              "      <th></th>\n",
              "      <th></th>\n",
              "      <th></th>\n",
              "      <th></th>\n",
              "      <th></th>\n",
              "      <th></th>\n",
              "    </tr>\n",
              "  </thead>\n",
              "  <tbody>\n",
              "    <tr>\n",
              "      <th>2019-20</th>\n",
              "      <td>Atlanta Hawks</td>\n",
              "      <td>2.7</td>\n",
              "      <td>-3.4</td>\n",
              "      <td>4.2</td>\n",
              "      <td>0</td>\n",
              "      <td>-1.92</td>\n",
              "      <td>0.017</td>\n",
              "      <td>-1.733</td>\n",
              "      <td>-203.533</td>\n",
              "      <td>-0.011</td>\n",
              "      <td>7.6</td>\n",
              "      <td>-0.025</td>\n",
              "      <td>-211.133</td>\n",
              "      <td>0.001</td>\n",
              "      <td>-65.433</td>\n",
              "      <td>0.018</td>\n",
              "      <td>-50.333</td>\n",
              "      <td>-216.9</td>\n",
              "      <td>-116.633</td>\n",
              "      <td>-17</td>\n",
              "      <td>-4.933</td>\n",
              "      <td>59.267</td>\n",
              "      <td>81.2</td>\n",
              "      <td>-404.933</td>\n",
              "    </tr>\n",
              "    <tr>\n",
              "      <th>2018-19</th>\n",
              "      <td>Atlanta Hawks</td>\n",
              "      <td>3.9</td>\n",
              "      <td>-2.3</td>\n",
              "      <td>3.5</td>\n",
              "      <td>0</td>\n",
              "      <td>-1.177</td>\n",
              "      <td>0.036</td>\n",
              "      <td>-2.733</td>\n",
              "      <td>208.733</td>\n",
              "      <td>-0.009</td>\n",
              "      <td>409.267</td>\n",
              "      <td>-0.003</td>\n",
              "      <td>-200.533</td>\n",
              "      <td>-0.002</td>\n",
              "      <td>26.067</td>\n",
              "      <td>-0.015</td>\n",
              "      <td>106.533</td>\n",
              "      <td>-30.1</td>\n",
              "      <td>101.9</td>\n",
              "      <td>49.033</td>\n",
              "      <td>12.833</td>\n",
              "      <td>242.2</td>\n",
              "      <td>217.833</td>\n",
              "      <td>174.9</td>\n",
              "    </tr>\n",
              "    <tr>\n",
              "      <th>2017-18</th>\n",
              "      <td>Atlanta Hawks</td>\n",
              "      <td>1.0</td>\n",
              "      <td>-3.6</td>\n",
              "      <td>2.0</td>\n",
              "      <td>0</td>\n",
              "      <td>-1.047</td>\n",
              "      <td>-0.041</td>\n",
              "      <td>-6.2</td>\n",
              "      <td>-41.967</td>\n",
              "      <td>-0.014</td>\n",
              "      <td>166</td>\n",
              "      <td>-0.002</td>\n",
              "      <td>-207.967</td>\n",
              "      <td>-0.016</td>\n",
              "      <td>-123.5</td>\n",
              "      <td>0.018</td>\n",
              "      <td>-53.367</td>\n",
              "      <td>-79.033</td>\n",
              "      <td>40.567</td>\n",
              "      <td>5.233</td>\n",
              "      <td>-46.867</td>\n",
              "      <td>106.267</td>\n",
              "      <td>-21.9</td>\n",
              "      <td>-244.333</td>\n",
              "    </tr>\n",
              "    <tr>\n",
              "      <th>2016-17</th>\n",
              "      <td>Atlanta Hawks</td>\n",
              "      <td>1.0</td>\n",
              "      <td>-3.9</td>\n",
              "      <td>-3.1</td>\n",
              "      <td>1</td>\n",
              "      <td>1.313</td>\n",
              "      <td>-0.044</td>\n",
              "      <td>-0.8</td>\n",
              "      <td>-85.833</td>\n",
              "      <td>-0.006</td>\n",
              "      <td>-77.067</td>\n",
              "      <td>-0.016</td>\n",
              "      <td>-8.767</td>\n",
              "      <td>-0.003</td>\n",
              "      <td>143.833</td>\n",
              "      <td>-0.044</td>\n",
              "      <td>10.767</td>\n",
              "      <td>56.033</td>\n",
              "      <td>82.667</td>\n",
              "      <td>40.333</td>\n",
              "      <td>8.033</td>\n",
              "      <td>150</td>\n",
              "      <td>-140.667</td>\n",
              "      <td>-199.433</td>\n",
              "    </tr>\n",
              "    <tr>\n",
              "      <th>2015-16</th>\n",
              "      <td>Atlanta Hawks</td>\n",
              "      <td>1.3</td>\n",
              "      <td>-1.3</td>\n",
              "      <td>-5.0</td>\n",
              "      <td>2</td>\n",
              "      <td>1.563</td>\n",
              "      <td>-0.044</td>\n",
              "      <td>-3.333</td>\n",
              "      <td>-11.967</td>\n",
              "      <td>0.006</td>\n",
              "      <td>351.3</td>\n",
              "      <td>-0.003</td>\n",
              "      <td>-363.267</td>\n",
              "      <td>0.02</td>\n",
              "      <td>-277.633</td>\n",
              "      <td>0.025</td>\n",
              "      <td>-175.133</td>\n",
              "      <td>37.967</td>\n",
              "      <td>272.267</td>\n",
              "      <td>103.567</td>\n",
              "      <td>79.567</td>\n",
              "      <td>46.533</td>\n",
              "      <td>-91.8</td>\n",
              "      <td>13.933</td>\n",
              "    </tr>\n",
              "    <tr>\n",
              "      <th>...</th>\n",
              "      <td>...</td>\n",
              "      <td>...</td>\n",
              "      <td>...</td>\n",
              "      <td>...</td>\n",
              "      <td>...</td>\n",
              "      <td>...</td>\n",
              "      <td>...</td>\n",
              "      <td>...</td>\n",
              "      <td>...</td>\n",
              "      <td>...</td>\n",
              "      <td>...</td>\n",
              "      <td>...</td>\n",
              "      <td>...</td>\n",
              "      <td>...</td>\n",
              "      <td>...</td>\n",
              "      <td>...</td>\n",
              "      <td>...</td>\n",
              "      <td>...</td>\n",
              "      <td>...</td>\n",
              "      <td>...</td>\n",
              "      <td>...</td>\n",
              "      <td>...</td>\n",
              "      <td>...</td>\n",
              "      <td>...</td>\n",
              "    </tr>\n",
              "    <tr>\n",
              "      <th>1984-85</th>\n",
              "      <td>Washington Bullets</td>\n",
              "      <td>-1.8</td>\n",
              "      <td>-3.6</td>\n",
              "      <td>-3.3</td>\n",
              "      <td>1</td>\n",
              "      <td>0.652</td>\n",
              "      <td>-0.029</td>\n",
              "      <td>3.043</td>\n",
              "      <td>76.565</td>\n",
              "      <td>-0.012</td>\n",
              "      <td>140.739</td>\n",
              "      <td>0</td>\n",
              "      <td>-64.174</td>\n",
              "      <td>-0.009</td>\n",
              "      <td>-418.87</td>\n",
              "      <td>-0.02</td>\n",
              "      <td>-161.87</td>\n",
              "      <td>3.304</td>\n",
              "      <td>-64.826</td>\n",
              "      <td>8.043</td>\n",
              "      <td>-42.609</td>\n",
              "      <td>-182.957</td>\n",
              "      <td>-176.043</td>\n",
              "      <td>-433.739</td>\n",
              "    </tr>\n",
              "    <tr>\n",
              "      <th>1983-84</th>\n",
              "      <td>Washington Bullets</td>\n",
              "      <td>-4.0</td>\n",
              "      <td>-3.4</td>\n",
              "      <td>-0.4</td>\n",
              "      <td>1</td>\n",
              "      <td>-0.183</td>\n",
              "      <td>-0.029</td>\n",
              "      <td>9.783</td>\n",
              "      <td>-338.13</td>\n",
              "      <td>-0.008</td>\n",
              "      <td>87.043</td>\n",
              "      <td>0.01</td>\n",
              "      <td>-425.174</td>\n",
              "      <td>-0.005</td>\n",
              "      <td>-233.435</td>\n",
              "      <td>-0.003</td>\n",
              "      <td>-137</td>\n",
              "      <td>22.739</td>\n",
              "      <td>44.304</td>\n",
              "      <td>-141.435</td>\n",
              "      <td>-114.957</td>\n",
              "      <td>-19.609</td>\n",
              "      <td>-122.87</td>\n",
              "      <td>-606.043</td>\n",
              "    </tr>\n",
              "    <tr>\n",
              "      <th>1982-83</th>\n",
              "      <td>Washington Bullets</td>\n",
              "      <td>-3.7</td>\n",
              "      <td>-5.6</td>\n",
              "      <td>-5.4</td>\n",
              "      <td>0</td>\n",
              "      <td>-0.3</td>\n",
              "      <td>-0.022</td>\n",
              "      <td>10.043</td>\n",
              "      <td>-293.087</td>\n",
              "      <td>-0.017</td>\n",
              "      <td>52.304</td>\n",
              "      <td>0.064</td>\n",
              "      <td>-345.391</td>\n",
              "      <td>-0.018</td>\n",
              "      <td>-259.957</td>\n",
              "      <td>-0.034</td>\n",
              "      <td>-117.087</td>\n",
              "      <td>0.304</td>\n",
              "      <td>-78.435</td>\n",
              "      <td>3.522</td>\n",
              "      <td>-59.391</td>\n",
              "      <td>21.13</td>\n",
              "      <td>-145.174</td>\n",
              "      <td>-764.174</td>\n",
              "    </tr>\n",
              "    <tr>\n",
              "      <th>1981-82</th>\n",
              "      <td>Washington Bullets</td>\n",
              "      <td>-1.5</td>\n",
              "      <td>-3.6</td>\n",
              "      <td>-4.4</td>\n",
              "      <td>2</td>\n",
              "      <td>-0.161</td>\n",
              "      <td>-0.011</td>\n",
              "      <td>7.304</td>\n",
              "      <td>-67.565</td>\n",
              "      <td>-0.017</td>\n",
              "      <td>48.696</td>\n",
              "      <td>-0.003</td>\n",
              "      <td>-116.261</td>\n",
              "      <td>-0.015</td>\n",
              "      <td>-238</td>\n",
              "      <td>0.027</td>\n",
              "      <td>-128.609</td>\n",
              "      <td>193.957</td>\n",
              "      <td>-79.522</td>\n",
              "      <td>-57.304</td>\n",
              "      <td>-43.478</td>\n",
              "      <td>-63.696</td>\n",
              "      <td>-73.739</td>\n",
              "      <td>-418.304</td>\n",
              "    </tr>\n",
              "    <tr>\n",
              "      <th>1980-81</th>\n",
              "      <td>Washington Bullets</td>\n",
              "      <td>0.6</td>\n",
              "      <td>-2.8</td>\n",
              "      <td>-2.8</td>\n",
              "      <td>0</td>\n",
              "      <td>2.4</td>\n",
              "      <td>-0.094</td>\n",
              "      <td>6.391</td>\n",
              "      <td>266.174</td>\n",
              "      <td>-0.014</td>\n",
              "      <td>75.13</td>\n",
              "      <td>0.041</td>\n",
              "      <td>191.043</td>\n",
              "      <td>-0.013</td>\n",
              "      <td>-296.739</td>\n",
              "      <td>-0.027</td>\n",
              "      <td>-37.913</td>\n",
              "      <td>160.261</td>\n",
              "      <td>62.565</td>\n",
              "      <td>-96.565</td>\n",
              "      <td>-44.348</td>\n",
              "      <td>-115.13</td>\n",
              "      <td>-160</td>\n",
              "      <td>-202.609</td>\n",
              "    </tr>\n",
              "  </tbody>\n",
              "</table>\n",
              "<p>1112 rows × 24 columns</p>\n",
              "</div>"
            ],
            "text/plain": [
              "                       Team  Rel Pace  Rel ORtg  ...      TOV       PF      PTS\n",
              "Season                                           ...                           \n",
              "2019-20       Atlanta Hawks       2.7      -3.4  ...   59.267     81.2 -404.933\n",
              "2018-19       Atlanta Hawks       3.9      -2.3  ...    242.2  217.833    174.9\n",
              "2017-18       Atlanta Hawks       1.0      -3.6  ...  106.267    -21.9 -244.333\n",
              "2016-17       Atlanta Hawks       1.0      -3.9  ...      150 -140.667 -199.433\n",
              "2015-16       Atlanta Hawks       1.3      -1.3  ...   46.533    -91.8   13.933\n",
              "...                     ...       ...       ...  ...      ...      ...      ...\n",
              "1984-85  Washington Bullets      -1.8      -3.6  ... -182.957 -176.043 -433.739\n",
              "1983-84  Washington Bullets      -4.0      -3.4  ...  -19.609  -122.87 -606.043\n",
              "1982-83  Washington Bullets      -3.7      -5.6  ...    21.13 -145.174 -764.174\n",
              "1981-82  Washington Bullets      -1.5      -3.6  ...  -63.696  -73.739 -418.304\n",
              "1980-81  Washington Bullets       0.6      -2.8  ...  -115.13     -160 -202.609\n",
              "\n",
              "[1112 rows x 24 columns]"
            ]
          },
          "metadata": {
            "tags": []
          },
          "execution_count": 60
        }
      ]
    },
    {
      "cell_type": "code",
      "metadata": {
        "colab": {
          "base_uri": "https://localhost:8080/"
        },
        "id": "ZqYMgEKGhPoH",
        "outputId": "3f8f0542-c170-498a-9950-e50cb0a92420"
      },
      "source": [
        "# select/adjust data to train ml model\n",
        "from sklearn.preprocessing import LabelEncoder\n",
        "from tensorflow.keras.utils import to_categorical\n",
        "\n",
        "X = all_stats.drop([\"Team\", \"Season\", \"Chip?\"], axis=1)\n",
        "y = all_stats[\"Chip?\"].values.reshape(-1, 1)\n",
        "\n",
        "# label-encode y data\n",
        "label_encoder = LabelEncoder()\n",
        "label_encoder.fit(y)\n",
        "encoded_y = label_encoder.transform(y)\n",
        "\n",
        "# One-hot encodde y data\n",
        "y = to_categorical(encoded_y)\n",
        "\n",
        "y\n"
      ],
      "execution_count": null,
      "outputs": [
        {
          "output_type": "stream",
          "text": [
            "/usr/local/lib/python3.7/dist-packages/sklearn/preprocessing/_label.py:235: DataConversionWarning: A column-vector y was passed when a 1d array was expected. Please change the shape of y to (n_samples, ), for example using ravel().\n",
            "  y = column_or_1d(y, warn=True)\n",
            "/usr/local/lib/python3.7/dist-packages/sklearn/preprocessing/_label.py:268: DataConversionWarning: A column-vector y was passed when a 1d array was expected. Please change the shape of y to (n_samples, ), for example using ravel().\n",
            "  y = column_or_1d(y, warn=True)\n"
          ],
          "name": "stderr"
        },
        {
          "output_type": "execute_result",
          "data": {
            "text/plain": [
              "array([[1., 0.],\n",
              "       [1., 0.],\n",
              "       [1., 0.],\n",
              "       ...,\n",
              "       [1., 0.],\n",
              "       [1., 0.],\n",
              "       [1., 0.]], dtype=float32)"
            ]
          },
          "metadata": {
            "tags": []
          },
          "execution_count": 14
        }
      ]
    },
    {
      "cell_type": "code",
      "metadata": {
        "id": "7J5VSugkj9f_"
      },
      "source": [
        "# split data into training and testing sets\n",
        "from sklearn.model_selection import train_test_split\n",
        "\n",
        "X_train, X_test, y_train, y_test = train_test_split(X, y, random_state=42)\n"
      ],
      "execution_count": null,
      "outputs": []
    },
    {
      "cell_type": "code",
      "metadata": {
        "colab": {
          "base_uri": "https://localhost:8080/"
        },
        "id": "yK-HM-lgkcUS",
        "outputId": "d49a4091-4bb3-490e-c458-9f56262561a2"
      },
      "source": [
        "# train random forest classifier\n",
        "from sklearn.ensemble import RandomForestClassifier\n",
        "\n",
        "rf = RandomForestClassifier(n_estimators=200, random_state=42)\n",
        "rf = rf.fit(X_train, y_train)\n",
        "print(rf.score(X_test, y_test))\n"
      ],
      "execution_count": null,
      "outputs": [
        {
          "output_type": "stream",
          "text": [
            "0.9558823529411765\n"
          ],
          "name": "stdout"
        }
      ]
    },
    {
      "cell_type": "code",
      "metadata": {
        "colab": {
          "base_uri": "https://localhost:8080/"
        },
        "id": "-MlFBMkxuyRb",
        "outputId": "a9038d2d-6707-46e1-c556-7755b96205d9"
      },
      "source": [
        "# weighted importance of each stat towards winning a basketball game\n",
        "sorted(zip(bf.feature_importances_, X.columns), reverse=True)"
      ],
      "execution_count": null,
      "outputs": [
        {
          "output_type": "execute_result",
          "data": {
            "text/plain": [
              "[(0.45078943560245877, 'Rel ORtg'),\n",
              " (0.4172580486702902, 'Rel DRtg'),\n",
              " (0.13195251572725109, 'Rel Pace')]"
            ]
          },
          "metadata": {
            "tags": []
          },
          "execution_count": 101
        }
      ]
    },
    {
      "cell_type": "code",
      "metadata": {
        "colab": {
          "base_uri": "https://localhost:8080/",
          "height": 419
        },
        "id": "V5vNSBmnBNPq",
        "outputId": "bb4a7af0-664c-425c-f83c-3d80dfbbd595"
      },
      "source": [
        "# create array to hold binary model predictions\n",
        "predictions = []\n",
        "\n",
        "# convert hot encoded preditions back to binary values\n",
        "for pred in rf.predict(X):\n",
        "  if pred[1] == 0.:\n",
        "    predictions.append(0)\n",
        "  else:\n",
        "    predictions.append(1)\n",
        "\n",
        "# create new dataframe to hold stats with predictions\n",
        "champs = all_stats\n",
        "champs[\"Predicted\"] = predictions\n",
        "\n",
        "# show dataframe with all stats and championship predictions\n",
        "champs"
      ],
      "execution_count": null,
      "outputs": [
        {
          "output_type": "execute_result",
          "data": {
            "text/html": [
              "<div>\n",
              "<style scoped>\n",
              "    .dataframe tbody tr th:only-of-type {\n",
              "        vertical-align: middle;\n",
              "    }\n",
              "\n",
              "    .dataframe tbody tr th {\n",
              "        vertical-align: top;\n",
              "    }\n",
              "\n",
              "    .dataframe thead th {\n",
              "        text-align: right;\n",
              "    }\n",
              "</style>\n",
              "<table border=\"1\" class=\"dataframe\">\n",
              "  <thead>\n",
              "    <tr style=\"text-align: right;\">\n",
              "      <th></th>\n",
              "      <th>Team</th>\n",
              "      <th>Season</th>\n",
              "      <th>Rel Pace</th>\n",
              "      <th>Rel ORtg</th>\n",
              "      <th>Rel DRtg</th>\n",
              "      <th>Chip?</th>\n",
              "      <th>Predicted</th>\n",
              "    </tr>\n",
              "  </thead>\n",
              "  <tbody>\n",
              "    <tr>\n",
              "      <th>0</th>\n",
              "      <td>Atlanta Hawks</td>\n",
              "      <td>2020-21</td>\n",
              "      <td>-1.6</td>\n",
              "      <td>3.4</td>\n",
              "      <td>1.0</td>\n",
              "      <td>0</td>\n",
              "      <td>0</td>\n",
              "    </tr>\n",
              "    <tr>\n",
              "      <th>1</th>\n",
              "      <td>Atlanta Hawks</td>\n",
              "      <td>2019-20</td>\n",
              "      <td>2.7</td>\n",
              "      <td>-3.4</td>\n",
              "      <td>4.2</td>\n",
              "      <td>0</td>\n",
              "      <td>0</td>\n",
              "    </tr>\n",
              "    <tr>\n",
              "      <th>2</th>\n",
              "      <td>Atlanta Hawks</td>\n",
              "      <td>2018-19</td>\n",
              "      <td>3.9</td>\n",
              "      <td>-2.3</td>\n",
              "      <td>3.5</td>\n",
              "      <td>0</td>\n",
              "      <td>0</td>\n",
              "    </tr>\n",
              "    <tr>\n",
              "      <th>3</th>\n",
              "      <td>Atlanta Hawks</td>\n",
              "      <td>2017-18</td>\n",
              "      <td>1.0</td>\n",
              "      <td>-3.6</td>\n",
              "      <td>2.0</td>\n",
              "      <td>0</td>\n",
              "      <td>0</td>\n",
              "    </tr>\n",
              "    <tr>\n",
              "      <th>4</th>\n",
              "      <td>Atlanta Hawks</td>\n",
              "      <td>2016-17</td>\n",
              "      <td>1.0</td>\n",
              "      <td>-3.9</td>\n",
              "      <td>-3.1</td>\n",
              "      <td>0</td>\n",
              "      <td>0</td>\n",
              "    </tr>\n",
              "    <tr>\n",
              "      <th>...</th>\n",
              "      <td>...</td>\n",
              "      <td>...</td>\n",
              "      <td>...</td>\n",
              "      <td>...</td>\n",
              "      <td>...</td>\n",
              "      <td>...</td>\n",
              "      <td>...</td>\n",
              "    </tr>\n",
              "    <tr>\n",
              "      <th>46</th>\n",
              "      <td>Washington Bullets</td>\n",
              "      <td>1974-75</td>\n",
              "      <td>1.6</td>\n",
              "      <td>0.3</td>\n",
              "      <td>-6.4</td>\n",
              "      <td>0</td>\n",
              "      <td>0</td>\n",
              "    </tr>\n",
              "    <tr>\n",
              "      <th>47</th>\n",
              "      <td>Capital Bullets</td>\n",
              "      <td>1973-74</td>\n",
              "      <td>-1.5</td>\n",
              "      <td>-2.1</td>\n",
              "      <td>-3.5</td>\n",
              "      <td>0</td>\n",
              "      <td>0</td>\n",
              "    </tr>\n",
              "    <tr>\n",
              "      <th>48</th>\n",
              "      <td>Baltimore Bullets</td>\n",
              "      <td>1972-73</td>\n",
              "      <td>-2.0</td>\n",
              "      <td>-0.5</td>\n",
              "      <td>-3.5</td>\n",
              "      <td>0</td>\n",
              "      <td>0</td>\n",
              "    </tr>\n",
              "    <tr>\n",
              "      <th>49</th>\n",
              "      <td>Baltimore Bullets</td>\n",
              "      <td>1971-72</td>\n",
              "      <td>-1.5</td>\n",
              "      <td>-1.4</td>\n",
              "      <td>-0.3</td>\n",
              "      <td>0</td>\n",
              "      <td>0</td>\n",
              "    </tr>\n",
              "    <tr>\n",
              "      <th>50</th>\n",
              "      <td>Baltimore Bullets</td>\n",
              "      <td>1970-71</td>\n",
              "      <td>1.4</td>\n",
              "      <td>-1.0</td>\n",
              "      <td>-1.5</td>\n",
              "      <td>0</td>\n",
              "      <td>0</td>\n",
              "    </tr>\n",
              "  </tbody>\n",
              "</table>\n",
              "<p>1358 rows × 7 columns</p>\n",
              "</div>"
            ],
            "text/plain": [
              "                  Team   Season  Rel Pace  Rel ORtg  Rel DRtg Chip?  Predicted\n",
              "0        Atlanta Hawks  2020-21      -1.6       3.4       1.0     0          0\n",
              "1        Atlanta Hawks  2019-20       2.7      -3.4       4.2     0          0\n",
              "2        Atlanta Hawks  2018-19       3.9      -2.3       3.5     0          0\n",
              "3        Atlanta Hawks  2017-18       1.0      -3.6       2.0     0          0\n",
              "4        Atlanta Hawks  2016-17       1.0      -3.9      -3.1     0          0\n",
              "..                 ...      ...       ...       ...       ...   ...        ...\n",
              "46  Washington Bullets  1974-75       1.6       0.3      -6.4     0          0\n",
              "47     Capital Bullets  1973-74      -1.5      -2.1      -3.5     0          0\n",
              "48   Baltimore Bullets  1972-73      -2.0      -0.5      -3.5     0          0\n",
              "49   Baltimore Bullets  1971-72      -1.5      -1.4      -0.3     0          0\n",
              "50   Baltimore Bullets  1970-71       1.4      -1.0      -1.5     0          0\n",
              "\n",
              "[1358 rows x 7 columns]"
            ]
          },
          "metadata": {
            "tags": []
          },
          "execution_count": 112
        }
      ]
    },
    {
      "cell_type": "code",
      "metadata": {
        "colab": {
          "base_uri": "https://localhost:8080/"
        },
        "id": "RAwQm3mSE3Lt",
        "outputId": "035c4726-ec89-4e2c-f965-90f0eeac52e1"
      },
      "source": [
        "# create lists to hold overachieving and disappointing teams\n",
        "overachievers = []\n",
        "disappointments = []\n",
        "\n",
        "# iterate through all seasons for all teams\n",
        "for i in range(0, len(champs[\"Season\"])):\n",
        "\n",
        "  # if model said a team wouldnt win the chip but they do then add them to overachievers\n",
        "  if (champs[\"Chip?\"].values[i] == 1) and (champs[\"Predicted\"].values[i] == 0):\n",
        "    overachievers.append(f'{champs[\"Season\"].values[i]} {champs[\"Team\"].values[i]}')\n",
        "\n",
        "  # if model said a team would win the chip but the don't then add them to disappointments\n",
        "  elif (champs[\"Chip?\"].values[i] == 0) and (champs[\"Predicted\"].values[i] == 1):\n",
        "    disappointments.append(f'{champs[\"Season\"].values[i]} {champs[\"Team\"].values[i]}')\n",
        "\n",
        "# show both lists\n",
        "print(overachievers)\n",
        "print(disappointments)\n"
      ],
      "execution_count": null,
      "outputs": [
        {
          "output_type": "stream",
          "text": [
            "['1975-76 New York Nets', '2007-08 Boston Celtics', '1975-76 Boston Celtics', '2015-16 Cleveland Cavaliers', '2010-11 Dallas Mavericks', '1988-89 Detroit Pistons', '2016-17 Golden State Warriors', '1987-88 Los Angeles Lakers', '1972-73 New York Knicks', '1978-79 Seattle SuperSonics', '2004-05 San Antonio Spurs', '1998-99 San Antonio Spurs', '2018-19 Toronto Raptors', '1977-78 Washington Bullets']\n",
            "['1971-72 Milwaukee Bucks']\n"
          ],
          "name": "stdout"
        }
      ]
    },
    {
      "cell_type": "code",
      "metadata": {
        "colab": {
          "base_uri": "https://localhost:8080/"
        },
        "id": "BcItg16YHyO8",
        "outputId": "5f9fe979-a382-4aaf-c8ef-c9eb0e3e178b"
      },
      "source": [
        "type(0)"
      ],
      "execution_count": null,
      "outputs": [
        {
          "output_type": "execute_result",
          "data": {
            "text/plain": [
              "int"
            ]
          },
          "metadata": {
            "tags": []
          },
          "execution_count": 123
        }
      ]
    },
    {
      "cell_type": "code",
      "metadata": {
        "id": "rQciv577mka_"
      },
      "source": [
        "# # tune hyperparameters\n",
        "# from sklearn.model_selection import GridSearchCV\n",
        "\n",
        "# # create new model whose hyperparamaters are to be tuned\n",
        "# forest = RandomForestClassifier(random_state=42)\n",
        "\n",
        "# # store some tuning options in a dictionary\n",
        "# hyper = {'n_estimators': [10, 25, 50, 100, 200], \n",
        "#          'max_depth': [3, 5, 8, 15]}\n",
        "\n",
        "# # create GridSearch model\n",
        "# grid = GridSearchCV(forest, hyper, cv = 3, verbose = 1, n_jobs = -1)\n",
        "\n",
        "# # Train the model with GridSearch\n",
        "# fitted = grid.fit(X_train_scaled, y_train)\n",
        "\n",
        "# # display best parameters and the score they get\n",
        "# print(fitted.best_params_)\n",
        "# print(fitted.best_score_)\n"
      ],
      "execution_count": null,
      "outputs": []
    },
    {
      "cell_type": "code",
      "metadata": {
        "id": "TTxvedOfod18"
      },
      "source": [
        "# best_forest = RandomForestClassifier(max_depth=3, n_estimators=10, random_state=42)\n",
        "# bf = best_forest.fit(X_train_scaled, y_train)\n",
        "# # **(why is score different than the \"fitted\" score in the cell above)\n",
        "# print(bf.score(X_test_scaled, y_test))\n"
      ],
      "execution_count": null,
      "outputs": []
    },
    {
      "cell_type": "code",
      "metadata": {
        "id": "kWmBs3EkSdx4"
      },
      "source": [
        "#import pandas as pd\n",
        "#import numpy as np\n",
        "#import matplotlib.pyplot as plt\n",
        "\n",
        "#from matplotlib import style\n",
        "#style.use(\"ggplot\")\n",
        "#from matplotlib import rcParams\n",
        "#rcParams['figure.figsize'] = 10, 8"
      ],
      "execution_count": null,
      "outputs": []
    },
    {
      "cell_type": "code",
      "metadata": {
        "id": "3D26QwXFYszm"
      },
      "source": [
        "#df = pd.dataFrame(os.path.join(\"..\", \"Chip?\", \"Season\", \"Team\"))\n",
        "#df.head()"
      ],
      "execution_count": null,
      "outputs": []
    },
    {
      "cell_type": "code",
      "metadata": {
        "id": "T6sUv-_NSdAa"
      },
      "source": [
        "#target = df[\"Chip?\"]\n",
        "#target_names = [\"Season\", \"team\"]"
      ],
      "execution_count": null,
      "outputs": []
    },
    {
      "cell_type": "code",
      "metadata": {
        "id": "8yEz4yy3UqTt"
      },
      "source": [
        "#data = df.drop(\"Chip?\", axis=1)\n",
        "#feature_names = data.columns\n",
        "#data.head()"
      ],
      "execution_count": null,
      "outputs": []
    },
    {
      "cell_type": "code",
      "metadata": {
        "id": "88JVGB6xVYyk"
      },
      "source": [
        "#from sklearn.model_selection import train_test_split\n",
        "#X_train, X_test, y_train, y_test = train_test_split(data, target, random_state=42)"
      ],
      "execution_count": null,
      "outputs": []
    },
    {
      "cell_type": "code",
      "metadata": {
        "id": "_WP0gT_NVoUi"
      },
      "source": [
        "#from sklearn.svm import SVC \n",
        "#model = SVC(kernel='linear')\n",
        "#model.fit(X_train, y_train)"
      ],
      "execution_count": null,
      "outputs": []
    },
    {
      "cell_type": "code",
      "metadata": {
        "id": "92zhEGxGXY4P"
      },
      "source": [
        "#print('Test Acc: %.3f' % model.score(X_test, y_test))"
      ],
      "execution_count": null,
      "outputs": []
    },
    {
      "cell_type": "code",
      "metadata": {
        "id": "1GehObSUbDvo"
      },
      "source": [
        "#from sklearn.metrics import classification_report\n",
        "#predictions = model.predict(X_test)\n",
        "#print(classification_report(y_test, predictions,\n",
        "                            #target_names=target_names))"
      ],
      "execution_count": null,
      "outputs": []
    },
    {
      "cell_type": "markdown",
      "metadata": {
        "id": "2S8MW4oy8aB7"
      },
      "source": [
        "**ETL**"
      ]
    },
    {
      "cell_type": "code",
      "metadata": {
        "colab": {
          "base_uri": "https://localhost:8080/"
        },
        "id": "JYVd81e5KQdZ",
        "outputId": "b7d69574-42f5-45f1-c1c0-4a37863201a0"
      },
      "source": [
        "import os\n",
        "# Find the latest version of spark 3.0  from http://www-us.apache.org/dist/spark/ and enter as the spark version\n",
        "# For example:\n",
        "spark_version = 'spark-3.1.1'\n",
        "\n",
        "os.environ['SPARK_VERSION']=spark_version\n",
        "\n",
        "# Install Spark and Java\n",
        "!apt-get update\n",
        "!apt-get install openjdk-11-jdk-headless -qq > /dev/null\n",
        "!wget -q http://www-us.apache.org/dist/spark/$SPARK_VERSION/$SPARK_VERSION-bin-hadoop2.7.tgz\n",
        "!tar xf $SPARK_VERSION-bin-hadoop2.7.tgz\n",
        "!pip install -q findspark\n",
        "\n",
        "# Set Environment Variables\n",
        "os.environ[\"JAVA_HOME\"] = \"/usr/lib/jvm/java-11-openjdk-amd64\"\n",
        "os.environ[\"SPARK_HOME\"] = f\"/content/{spark_version}-bin-hadoop2.7\"\n",
        "\n",
        "# Start a SparkSession\n",
        "import findspark\n",
        "findspark.init()"
      ],
      "execution_count": null,
      "outputs": [
        {
          "output_type": "stream",
          "text": [
            "\r0% [Working]\r            \rGet:1 https://cloud.r-project.org/bin/linux/ubuntu bionic-cran40/ InRelease [3,626 B]\n",
            "Ign:2 https://developer.download.nvidia.com/compute/cuda/repos/ubuntu1804/x86_64  InRelease\n",
            "Ign:3 https://developer.download.nvidia.com/compute/machine-learning/repos/ubuntu1804/x86_64  InRelease\n",
            "Get:4 https://developer.download.nvidia.com/compute/cuda/repos/ubuntu1804/x86_64  Release [697 B]\n",
            "Hit:5 https://developer.download.nvidia.com/compute/machine-learning/repos/ubuntu1804/x86_64  Release\n",
            "Get:6 https://developer.download.nvidia.com/compute/cuda/repos/ubuntu1804/x86_64  Release.gpg [836 B]\n",
            "Get:7 http://security.ubuntu.com/ubuntu bionic-security InRelease [88.7 kB]\n",
            "Get:8 http://ppa.launchpad.net/c2d4u.team/c2d4u4.0+/ubuntu bionic InRelease [15.9 kB]\n",
            "Hit:9 http://archive.ubuntu.com/ubuntu bionic InRelease\n",
            "Get:10 https://cloud.r-project.org/bin/linux/ubuntu bionic-cran40/ Packages [61.8 kB]\n",
            "Get:11 http://archive.ubuntu.com/ubuntu bionic-updates InRelease [88.7 kB]\n",
            "Hit:13 http://ppa.launchpad.net/cran/libgit2/ubuntu bionic InRelease\n",
            "Ign:14 https://developer.download.nvidia.com/compute/cuda/repos/ubuntu1804/x86_64  Packages\n",
            "Get:14 https://developer.download.nvidia.com/compute/cuda/repos/ubuntu1804/x86_64  Packages [800 kB]\n",
            "Get:15 http://archive.ubuntu.com/ubuntu bionic-backports InRelease [74.6 kB]\n",
            "Get:16 http://ppa.launchpad.net/deadsnakes/ppa/ubuntu bionic InRelease [15.9 kB]\n",
            "Get:17 http://security.ubuntu.com/ubuntu bionic-security/universe amd64 Packages [1,414 kB]\n",
            "Hit:18 http://ppa.launchpad.net/graphics-drivers/ppa/ubuntu bionic InRelease\n",
            "Get:19 http://security.ubuntu.com/ubuntu bionic-security/restricted amd64 Packages [450 kB]\n",
            "Get:20 http://ppa.launchpad.net/c2d4u.team/c2d4u4.0+/ubuntu bionic/main Sources [1,770 kB]\n",
            "Get:21 http://security.ubuntu.com/ubuntu bionic-security/main amd64 Packages [2,185 kB]\n",
            "Get:22 http://archive.ubuntu.com/ubuntu bionic-updates/multiverse amd64 Packages [33.5 kB]\n",
            "Get:23 http://archive.ubuntu.com/ubuntu bionic-updates/main amd64 Packages [2,616 kB]\n",
            "Get:24 http://ppa.launchpad.net/c2d4u.team/c2d4u4.0+/ubuntu bionic/main amd64 Packages [906 kB]\n",
            "Get:25 http://archive.ubuntu.com/ubuntu bionic-updates/universe amd64 Packages [2,184 kB]\n",
            "Get:26 http://archive.ubuntu.com/ubuntu bionic-updates/restricted amd64 Packages [480 kB]\n",
            "Get:27 http://ppa.launchpad.net/deadsnakes/ppa/ubuntu bionic/main amd64 Packages [40.9 kB]\n",
            "Fetched 13.2 MB in 4s (3,010 kB/s)\n",
            "Reading package lists... Done\n"
          ],
          "name": "stdout"
        }
      ]
    },
    {
      "cell_type": "code",
      "metadata": {
        "colab": {
          "base_uri": "https://localhost:8080/"
        },
        "id": "ao0mRBziwiu_",
        "outputId": "9e794341-96cf-4135-fd53-fb091ec2b9b8"
      },
      "source": [
        "!wget https://jdbc.postgresql.org/download/postgresql-42.2.9.jar"
      ],
      "execution_count": null,
      "outputs": [
        {
          "output_type": "stream",
          "text": [
            "--2021-06-10 00:15:45--  https://jdbc.postgresql.org/download/postgresql-42.2.9.jar\n",
            "Resolving jdbc.postgresql.org (jdbc.postgresql.org)... 72.32.157.228, 2001:4800:3e1:1::228\n",
            "Connecting to jdbc.postgresql.org (jdbc.postgresql.org)|72.32.157.228|:443... connected.\n",
            "HTTP request sent, awaiting response... 200 OK\n",
            "Length: 914037 (893K) [application/java-archive]\n",
            "Saving to: ‘postgresql-42.2.9.jar’\n",
            "\n",
            "postgresql-42.2.9.j 100%[===================>] 892.61K  4.33MB/s    in 0.2s    \n",
            "\n",
            "2021-06-10 00:15:45 (4.33 MB/s) - ‘postgresql-42.2.9.jar’ saved [914037/914037]\n",
            "\n"
          ],
          "name": "stdout"
        }
      ]
    },
    {
      "cell_type": "code",
      "metadata": {
        "id": "xdBT2MFBKbYF"
      },
      "source": [
        "# Start Spark session\n",
        "from pyspark.sql import SparkSession\n",
        "spark = SparkSession.builder.appName(\"NbaChamps\").config(\"spark.driver.extraClassPath\",\"/content/postgresql-42.2.9.jar\").getOrCreate()"
      ],
      "execution_count": null,
      "outputs": []
    },
    {
      "cell_type": "code",
      "metadata": {
        "colab": {
          "base_uri": "https://localhost:8080/"
        },
        "id": "RV5lwm7Rkdyl",
        "outputId": "4f26c2ce-b174-4c2b-986e-f5d0265887e5"
      },
      "source": [
        "all_stats.dtypes"
      ],
      "execution_count": null,
      "outputs": [
        {
          "output_type": "execute_result",
          "data": {
            "text/plain": [
              "Team         object\n",
              "Season       object\n",
              "Rel Pace    float64\n",
              "Rel ORtg    float64\n",
              "Rel DRtg    float64\n",
              "Chip?        object\n",
              "dtype: object"
            ]
          },
          "metadata": {
            "tags": []
          },
          "execution_count": 13
        }
      ]
    },
    {
      "cell_type": "code",
      "metadata": {
        "colab": {
          "base_uri": "https://localhost:8080/"
        },
        "id": "NLKSnNxkug9V",
        "outputId": "e4f52e22-a3aa-41eb-a6ac-272fd57c0510"
      },
      "source": [
        "# Rename Columns for postgres consumption\n",
        "all_stats_copy = all_stats.copy()\n",
        "all_stats_py = all_stats_copy.rename(columns={\"Rel Pace\": \"Rel_Pace\", \"Rel ORtg\": \"Rel_ORtg\", \"Rel DRtg\": \"Rel_DRtg\", \"Chip?\": \"Chip\"})\n",
        "\n",
        "# Convert Pandas df to Pyspark df\n",
        "all_stats_py = spark.createDataFrame(all_stats_py)\n",
        "all_stats_py.printSchema()\n",
        "# all_stats_py"
      ],
      "execution_count": null,
      "outputs": [
        {
          "output_type": "stream",
          "text": [
            "root\n",
            " |-- Team: string (nullable = true)\n",
            " |-- Season: string (nullable = true)\n",
            " |-- Rel_Pace: double (nullable = true)\n",
            " |-- Rel_ORtg: double (nullable = true)\n",
            " |-- Rel_DRtg: double (nullable = true)\n",
            " |-- Chip: long (nullable = true)\n",
            "\n"
          ],
          "name": "stdout"
        }
      ]
    },
    {
      "cell_type": "code",
      "metadata": {
        "id": "_KersOHcuhiK"
      },
      "source": [
        "# Configure settings for RDS\n",
        "mode = \"append\"\n",
        "jdbc_url=\"jdbc:postgresql://nba-champs.c6ka6apltccn.us-east-2.rds.amazonaws.com:5432/nbaChamps\"\n",
        "config = {\"user\":\"postgres\",\n",
        "          \"password\": \"MildredChase84!\",\n",
        "          \"driver\":\"org.postgresql.Driver\"}"
      ],
      "execution_count": null,
      "outputs": []
    },
    {
      "cell_type": "code",
      "metadata": {
        "id": "E2Tn3IAtuhys"
      },
      "source": [
        "# Write DataFrame to Nba champs table in RDS\n",
        "\n",
        "all_stats_py.write.jdbc(url=jdbc_url, table='all_stats', mode=mode, properties=config)"
      ],
      "execution_count": null,
      "outputs": []
    },
    {
      "cell_type": "code",
      "metadata": {
        "id": "4a0371kVuh4-"
      },
      "source": [
        ""
      ],
      "execution_count": null,
      "outputs": []
    }
  ]
}