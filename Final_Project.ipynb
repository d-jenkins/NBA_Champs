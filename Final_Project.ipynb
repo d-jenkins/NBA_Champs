{
  "nbformat": 4,
  "nbformat_minor": 0,
  "metadata": {
    "colab": {
      "name": "Final Project.ipynb",
      "provenance": [],
      "collapsed_sections": [],
      "include_colab_link": true
    },
    "kernelspec": {
      "name": "python3",
      "display_name": "Python 3"
    },
    "language_info": {
      "name": "python"
    }
  },
  "cells": [
    {
      "cell_type": "markdown",
      "metadata": {
        "id": "view-in-github",
        "colab_type": "text"
      },
      "source": [
        "<a href=\"https://colab.research.google.com/github/d-jenkins/NBA_Champs/blob/dj_branch/Final_Project.ipynb\" target=\"_parent\"><img src=\"https://colab.research.google.com/assets/colab-badge.svg\" alt=\"Open In Colab\"/></a>"
      ]
    },
    {
      "cell_type": "code",
      "metadata": {
        "id": "mZadtRodBYZZ"
      },
      "source": [
        "# import all libraries needed\n",
        "import pandas as pd\n",
        "import numpy as np\n",
        "from bs4 import BeautifulSoup as bs\n",
        "from bs4 import Comment\n",
        "import requests\n",
        "import json\n"
      ],
      "execution_count": null,
      "outputs": []
    },
    {
      "cell_type": "code",
      "metadata": {
        "id": "jEVIdizDKo7D"
      },
      "source": [
        "# list holding abbviations for all nba teams to create urls\n",
        "teams = ['ATL', 'NJN', 'BOS', 'CHA', 'CHI', \n",
        "         'CLE', 'DAL', 'DEN', 'DET', 'GSW', \n",
        "         'HOU', 'IND', 'LAC', 'LAL', 'MEM', \n",
        "         'MIA', 'MIL', 'MIN', 'NOH', 'NYK', \n",
        "         'OKC', 'ORL', 'PHI', 'PHO', 'POR', \n",
        "         'SAC', 'SAS', 'TOR', 'UTA', 'WAS']\n",
        "\n",
        "# array to hold all tables for all teams for all seasons\n",
        "every_season = []\n",
        "\n",
        "# iterate through list of all team abbreviations\n",
        "for team in teams:\n",
        "\n",
        "  # create url to scrape for team\n",
        "  url = f'https://www.basketball-reference.com/teams/{team}'\n",
        "\n",
        "  # scrape teams stats from their bball reference page\n",
        "  stats = pd.read_html(url)[0]\n",
        "\n",
        "  # select only the desired columns \n",
        "  stats = stats[[\"Team\", \"Season\", \"Rel Pace\", \"Rel ORtg\", \"Rel DRtg\", \"Playoffs\"]]\n",
        "\n",
        "  # manupulate select colums for team\n",
        "  for i in range(0,len(stats[\"Playoffs\"])):\n",
        "    # remove asterisk from team\n",
        "    stats[\"Team\"][i] = stats[\"Team\"][i].replace(\"*\", \"\")\n",
        "\n",
        "    # change playoff status to binary of if they won chip or not\n",
        "    if stats[\"Playoffs\"][i] == \"Won Finals\":\n",
        "      stats[\"Playoffs\"][i] = 1\n",
        "    else:\n",
        "      stats[\"Playoffs\"][i] = 0\n",
        "\n",
        "  # rename \"playoffs\" column to \"Chip?\"\n",
        "  stats = stats.rename(columns={\"Playoffs\":\"Chip?\"})\n",
        "  \n",
        "  # Limit to all years since the 70s\n",
        "  stats = stats.iloc[0:51, :]\n",
        "\n",
        "  # add table of teams stats to a list of tables holding all teams stats\n",
        "  every_season.append(stats)\n",
        "\n",
        "# combine all teams stats into one dataframe\n",
        "all_stats = pd.concat(every_season)\n"
      ],
      "execution_count": null,
      "outputs": []
    },
    {
      "cell_type": "code",
      "metadata": {
        "colab": {
          "base_uri": "https://localhost:8080/",
          "height": 419
        },
        "id": "aBcHCp_zXfsn",
        "outputId": "164df565-26f6-401d-b2b0-9b82dc0689e3"
      },
      "source": [
        "# display all teams' stats\n",
        "all_stats\n"
      ],
      "execution_count": null,
      "outputs": [
        {
          "output_type": "execute_result",
          "data": {
            "text/html": [
              "<div>\n",
              "<style scoped>\n",
              "    .dataframe tbody tr th:only-of-type {\n",
              "        vertical-align: middle;\n",
              "    }\n",
              "\n",
              "    .dataframe tbody tr th {\n",
              "        vertical-align: top;\n",
              "    }\n",
              "\n",
              "    .dataframe thead th {\n",
              "        text-align: right;\n",
              "    }\n",
              "</style>\n",
              "<table border=\"1\" class=\"dataframe\">\n",
              "  <thead>\n",
              "    <tr style=\"text-align: right;\">\n",
              "      <th></th>\n",
              "      <th>Team</th>\n",
              "      <th>Season</th>\n",
              "      <th>Rel Pace</th>\n",
              "      <th>Rel ORtg</th>\n",
              "      <th>Rel DRtg</th>\n",
              "      <th>Chip?</th>\n",
              "    </tr>\n",
              "  </thead>\n",
              "  <tbody>\n",
              "    <tr>\n",
              "      <th>0</th>\n",
              "      <td>Atlanta Hawks</td>\n",
              "      <td>2020-21</td>\n",
              "      <td>-1.6</td>\n",
              "      <td>3.4</td>\n",
              "      <td>1.0</td>\n",
              "      <td>0</td>\n",
              "    </tr>\n",
              "    <tr>\n",
              "      <th>1</th>\n",
              "      <td>Atlanta Hawks</td>\n",
              "      <td>2019-20</td>\n",
              "      <td>2.7</td>\n",
              "      <td>-3.4</td>\n",
              "      <td>4.2</td>\n",
              "      <td>0</td>\n",
              "    </tr>\n",
              "    <tr>\n",
              "      <th>2</th>\n",
              "      <td>Atlanta Hawks</td>\n",
              "      <td>2018-19</td>\n",
              "      <td>3.9</td>\n",
              "      <td>-2.3</td>\n",
              "      <td>3.5</td>\n",
              "      <td>0</td>\n",
              "    </tr>\n",
              "    <tr>\n",
              "      <th>3</th>\n",
              "      <td>Atlanta Hawks</td>\n",
              "      <td>2017-18</td>\n",
              "      <td>1.0</td>\n",
              "      <td>-3.6</td>\n",
              "      <td>2.0</td>\n",
              "      <td>0</td>\n",
              "    </tr>\n",
              "    <tr>\n",
              "      <th>4</th>\n",
              "      <td>Atlanta Hawks</td>\n",
              "      <td>2016-17</td>\n",
              "      <td>1.0</td>\n",
              "      <td>-3.9</td>\n",
              "      <td>-3.1</td>\n",
              "      <td>0</td>\n",
              "    </tr>\n",
              "    <tr>\n",
              "      <th>...</th>\n",
              "      <td>...</td>\n",
              "      <td>...</td>\n",
              "      <td>...</td>\n",
              "      <td>...</td>\n",
              "      <td>...</td>\n",
              "      <td>...</td>\n",
              "    </tr>\n",
              "    <tr>\n",
              "      <th>46</th>\n",
              "      <td>Washington Bullets</td>\n",
              "      <td>1974-75</td>\n",
              "      <td>1.6</td>\n",
              "      <td>0.3</td>\n",
              "      <td>-6.4</td>\n",
              "      <td>0</td>\n",
              "    </tr>\n",
              "    <tr>\n",
              "      <th>47</th>\n",
              "      <td>Capital Bullets</td>\n",
              "      <td>1973-74</td>\n",
              "      <td>-1.5</td>\n",
              "      <td>-2.1</td>\n",
              "      <td>-3.5</td>\n",
              "      <td>0</td>\n",
              "    </tr>\n",
              "    <tr>\n",
              "      <th>48</th>\n",
              "      <td>Baltimore Bullets</td>\n",
              "      <td>1972-73</td>\n",
              "      <td>-2.0</td>\n",
              "      <td>-0.5</td>\n",
              "      <td>-3.5</td>\n",
              "      <td>0</td>\n",
              "    </tr>\n",
              "    <tr>\n",
              "      <th>49</th>\n",
              "      <td>Baltimore Bullets</td>\n",
              "      <td>1971-72</td>\n",
              "      <td>-1.5</td>\n",
              "      <td>-1.4</td>\n",
              "      <td>-0.3</td>\n",
              "      <td>0</td>\n",
              "    </tr>\n",
              "    <tr>\n",
              "      <th>50</th>\n",
              "      <td>Baltimore Bullets</td>\n",
              "      <td>1970-71</td>\n",
              "      <td>1.4</td>\n",
              "      <td>-1.0</td>\n",
              "      <td>-1.5</td>\n",
              "      <td>0</td>\n",
              "    </tr>\n",
              "  </tbody>\n",
              "</table>\n",
              "<p>1358 rows × 6 columns</p>\n",
              "</div>"
            ],
            "text/plain": [
              "                  Team   Season  Rel Pace  Rel ORtg  Rel DRtg Chip?\n",
              "0        Atlanta Hawks  2020-21      -1.6       3.4       1.0     0\n",
              "1        Atlanta Hawks  2019-20       2.7      -3.4       4.2     0\n",
              "2        Atlanta Hawks  2018-19       3.9      -2.3       3.5     0\n",
              "3        Atlanta Hawks  2017-18       1.0      -3.6       2.0     0\n",
              "4        Atlanta Hawks  2016-17       1.0      -3.9      -3.1     0\n",
              "..                 ...      ...       ...       ...       ...   ...\n",
              "46  Washington Bullets  1974-75       1.6       0.3      -6.4     0\n",
              "47     Capital Bullets  1973-74      -1.5      -2.1      -3.5     0\n",
              "48   Baltimore Bullets  1972-73      -2.0      -0.5      -3.5     0\n",
              "49   Baltimore Bullets  1971-72      -1.5      -1.4      -0.3     0\n",
              "50   Baltimore Bullets  1970-71       1.4      -1.0      -1.5     0\n",
              "\n",
              "[1358 rows x 6 columns]"
            ]
          },
          "metadata": {
            "tags": []
          },
          "execution_count": 20
        }
      ]
    },
    {
      "cell_type": "code",
      "metadata": {
        "colab": {
          "base_uri": "https://localhost:8080/"
        },
        "id": "ZqYMgEKGhPoH",
        "outputId": "3708b967-dc03-4fb0-c427-305ac3d8bb61"
      },
      "source": [
        "# select/adjust data to train ml model\n",
        "from sklearn.preprocessing import LabelEncoder\n",
        "from tensorflow.keras.utils import to_categorical\n",
        "\n",
        "X = all_stats.drop([\"Team\", \"Season\", \"Chip?\"], axis=1)\n",
        "y = all_stats[\"Chip?\"].values.reshape(-1, 1)\n",
        "\n",
        "# label-encode y data\n",
        "label_encoder = LabelEncoder()\n",
        "label_encoder.fit(y)\n",
        "encoded_y = label_encoder.transform(y)\n",
        "\n",
        "# One-hot encodde y data\n",
        "y = to_categorical(encoded_y)\n",
        "\n",
        "y\n"
      ],
      "execution_count": null,
      "outputs": [
        {
          "output_type": "stream",
          "text": [
            "/usr/local/lib/python3.7/dist-packages/sklearn/preprocessing/_label.py:235: DataConversionWarning: A column-vector y was passed when a 1d array was expected. Please change the shape of y to (n_samples, ), for example using ravel().\n",
            "  y = column_or_1d(y, warn=True)\n",
            "/usr/local/lib/python3.7/dist-packages/sklearn/preprocessing/_label.py:268: DataConversionWarning: A column-vector y was passed when a 1d array was expected. Please change the shape of y to (n_samples, ), for example using ravel().\n",
            "  y = column_or_1d(y, warn=True)\n"
          ],
          "name": "stderr"
        },
        {
          "output_type": "execute_result",
          "data": {
            "text/plain": [
              "array([[1., 0.],\n",
              "       [1., 0.],\n",
              "       [1., 0.],\n",
              "       ...,\n",
              "       [1., 0.],\n",
              "       [1., 0.],\n",
              "       [1., 0.]], dtype=float32)"
            ]
          },
          "metadata": {
            "tags": []
          },
          "execution_count": 95
        }
      ]
    },
    {
      "cell_type": "code",
      "metadata": {
        "id": "7J5VSugkj9f_"
      },
      "source": [
        "# split data into training and testing sets\n",
        "from sklearn.model_selection import train_test_split\n",
        "\n",
        "X_train, X_test, y_train, y_test = train_test_split(X, y, random_state=42)\n"
      ],
      "execution_count": null,
      "outputs": []
    },
    {
      "cell_type": "code",
      "metadata": {
        "colab": {
          "base_uri": "https://localhost:8080/"
        },
        "id": "yK-HM-lgkcUS",
        "outputId": "d49a4091-4bb3-490e-c458-9f56262561a2"
      },
      "source": [
        "# train random forest classifier\n",
        "from sklearn.ensemble import RandomForestClassifier\n",
        "\n",
        "rf = RandomForestClassifier(n_estimators=200, random_state=42)\n",
        "rf = rf.fit(X_train, y_train)\n",
        "print(rf.score(X_test, y_test))\n"
      ],
      "execution_count": null,
      "outputs": [
        {
          "output_type": "stream",
          "text": [
            "0.9558823529411765\n"
          ],
          "name": "stdout"
        }
      ]
    },
    {
      "cell_type": "code",
      "metadata": {
        "colab": {
          "base_uri": "https://localhost:8080/"
        },
        "id": "-MlFBMkxuyRb",
        "outputId": "a9038d2d-6707-46e1-c556-7755b96205d9"
      },
      "source": [
        "# weighted importance of each stat towards winning a basketball game\n",
        "sorted(zip(bf.feature_importances_, X.columns), reverse=True)"
      ],
      "execution_count": null,
      "outputs": [
        {
          "output_type": "execute_result",
          "data": {
            "text/plain": [
              "[(0.45078943560245877, 'Rel ORtg'),\n",
              " (0.4172580486702902, 'Rel DRtg'),\n",
              " (0.13195251572725109, 'Rel Pace')]"
            ]
          },
          "metadata": {
            "tags": []
          },
          "execution_count": 101
        }
      ]
    },
    {
      "cell_type": "code",
      "metadata": {
        "colab": {
          "base_uri": "https://localhost:8080/"
        },
        "id": "rQciv577mka_",
        "outputId": "2165f4cc-90aa-46a6-ce5f-66f37ff9b4b9"
      },
      "source": [
        "# tune hyperparameters\n",
        "from sklearn.model_selection import GridSearchCV\n",
        "\n",
        "# create new model whose hyperparamaters are to be tuned\n",
        "forest = RandomForestClassifier(random_state=42)\n",
        "\n",
        "# store some tuning options in a dictionary\n",
        "hyper = {'n_estimators': [10, 25, 50, 100, 200], \n",
        "         'max_depth': [3, 5, 8, 15]}\n",
        "\n",
        "# create GridSearch model\n",
        "grid = GridSearchCV(forest, hyper, cv = 3, verbose = 1, n_jobs = -1)\n",
        "\n",
        "# Train the model with GridSearch\n",
        "fitted = grid.fit(X_train_scaled, y_train)\n",
        "\n",
        "# display best parameters and the score they get\n",
        "print(fitted.best_params_)\n",
        "print(fitted.best_score_)\n"
      ],
      "execution_count": null,
      "outputs": [
        {
          "output_type": "stream",
          "text": [
            "Fitting 3 folds for each of 20 candidates, totalling 60 fits\n"
          ],
          "name": "stdout"
        },
        {
          "output_type": "stream",
          "text": [
            "[Parallel(n_jobs=-1)]: Using backend LokyBackend with 2 concurrent workers.\n",
            "[Parallel(n_jobs=-1)]: Done  46 tasks      | elapsed:    6.1s\n"
          ],
          "name": "stderr"
        },
        {
          "output_type": "stream",
          "text": [
            "{'max_depth': 3, 'n_estimators': 10}\n",
            "0.9646480421076985\n"
          ],
          "name": "stdout"
        },
        {
          "output_type": "stream",
          "text": [
            "[Parallel(n_jobs=-1)]: Done  60 out of  60 | elapsed:    8.1s finished\n"
          ],
          "name": "stderr"
        }
      ]
    },
    {
      "cell_type": "code",
      "metadata": {
        "colab": {
          "base_uri": "https://localhost:8080/"
        },
        "id": "TTxvedOfod18",
        "outputId": "d1238c5e-0b1f-413f-80e0-04a82c9a92a9"
      },
      "source": [
        "best_forest = RandomForestClassifier(max_depth=3, n_estimators=10, random_state=42)\n",
        "bf = best_forest.fit(X_train_scaled, y_train)\n",
        "# **(why is score different than the \"fitted\" score in the cell above)\n",
        "print(bf.score(X_test_scaled, y_test))\n"
      ],
      "execution_count": null,
      "outputs": [
        {
          "output_type": "stream",
          "text": [
            "0.95\n"
          ],
          "name": "stdout"
        }
      ]
    },
    {
      "cell_type": "markdown",
      "metadata": {
        "id": "2S8MW4oy8aB7"
      },
      "source": [
        "**ETL**"
      ]
    },
    {
      "cell_type": "code",
      "metadata": {
        "colab": {
          "base_uri": "https://localhost:8080/"
        },
        "id": "JYVd81e5KQdZ",
        "outputId": "319e1dcc-41b3-481f-ba5a-c06c669462ca"
      },
      "source": [
        "import os\n",
        "# Find the latest version of spark 3.0  from http://www-us.apache.org/dist/spark/ and enter as the spark version\n",
        "# For example:\n",
        "spark_version = 'spark-3.1.1'\n",
        "\n",
        "os.environ['SPARK_VERSION']=spark_version\n",
        "\n",
        "# Install Spark and Java\n",
        "!apt-get update\n",
        "!apt-get install openjdk-11-jdk-headless -qq > /dev/null\n",
        "!wget -q http://www-us.apache.org/dist/spark/$SPARK_VERSION/$SPARK_VERSION-bin-hadoop2.7.tgz\n",
        "!tar xf $SPARK_VERSION-bin-hadoop2.7.tgz\n",
        "!pip install -q findspark\n",
        "\n",
        "# Set Environment Variables\n",
        "os.environ[\"JAVA_HOME\"] = \"/usr/lib/jvm/java-11-openjdk-amd64\"\n",
        "os.environ[\"SPARK_HOME\"] = f\"/content/{spark_version}-bin-hadoop2.7\"\n",
        "\n",
        "# Start a SparkSession\n",
        "import findspark\n",
        "findspark.init()"
      ],
      "execution_count": null,
      "outputs": [
        {
          "output_type": "stream",
          "text": [
            "\r0% [Working]\r            \rGet:1 http://security.ubuntu.com/ubuntu bionic-security InRelease [88.7 kB]\n",
            "\r0% [Connecting to archive.ubuntu.com (91.189.88.152)] [1 InRelease 0 B/88.7 kB \r0% [Waiting for headers] [Connecting to cloud.r-project.org] [Waiting for heade\r0% [1 InRelease gpgv 88.7 kB] [Waiting for headers] [Connecting to cloud.r-proj\r                                                                               \rIgn:2 https://developer.download.nvidia.com/compute/cuda/repos/ubuntu1804/x86_64  InRelease\n",
            "\r0% [1 InRelease gpgv 88.7 kB] [Waiting for headers] [Connecting to cloud.r-proj\r                                                                               \rHit:3 http://archive.ubuntu.com/ubuntu bionic InRelease\n",
            "\r0% [1 InRelease gpgv 88.7 kB] [Connecting to cloud.r-project.org] [Waiting for \r                                                                               \rGet:4 http://ppa.launchpad.net/c2d4u.team/c2d4u4.0+/ubuntu bionic InRelease [15.9 kB]\n",
            "\r0% [1 InRelease gpgv 88.7 kB] [Waiting for headers] [Connecting to cloud.r-proj\r                                                                               \rIgn:5 https://developer.download.nvidia.com/compute/machine-learning/repos/ubuntu1804/x86_64  InRelease\n",
            "\r0% [1 InRelease gpgv 88.7 kB] [Waiting for headers] [Connecting to cloud.r-proj\r                                                                               \rGet:6 https://developer.download.nvidia.com/compute/cuda/repos/ubuntu1804/x86_64  Release [697 B]\n",
            "Hit:7 https://developer.download.nvidia.com/compute/machine-learning/repos/ubuntu1804/x86_64  Release\n",
            "Get:8 https://developer.download.nvidia.com/compute/cuda/repos/ubuntu1804/x86_64  Release.gpg [836 B]\n",
            "Get:9 http://archive.ubuntu.com/ubuntu bionic-updates InRelease [88.7 kB]\n",
            "Hit:10 http://ppa.launchpad.net/cran/libgit2/ubuntu bionic InRelease\n",
            "Get:11 https://cloud.r-project.org/bin/linux/ubuntu bionic-cran40/ InRelease [3,626 B]\n",
            "Get:12 http://security.ubuntu.com/ubuntu bionic-security/main amd64 Packages [2,184 kB]\n",
            "Get:13 http://archive.ubuntu.com/ubuntu bionic-backports InRelease [74.6 kB]\n",
            "Get:14 http://ppa.launchpad.net/deadsnakes/ppa/ubuntu bionic InRelease [15.9 kB]\n",
            "Get:15 http://security.ubuntu.com/ubuntu bionic-security/universe amd64 Packages [1,414 kB]\n",
            "Get:16 http://security.ubuntu.com/ubuntu bionic-security/restricted amd64 Packages [450 kB]\n",
            "Hit:17 http://ppa.launchpad.net/graphics-drivers/ppa/ubuntu bionic InRelease\n",
            "Ign:19 https://developer.download.nvidia.com/compute/cuda/repos/ubuntu1804/x86_64  Packages\n",
            "Get:19 https://developer.download.nvidia.com/compute/cuda/repos/ubuntu1804/x86_64  Packages [800 kB]\n",
            "Get:20 http://ppa.launchpad.net/c2d4u.team/c2d4u4.0+/ubuntu bionic/main Sources [1,770 kB]\n",
            "Get:21 http://archive.ubuntu.com/ubuntu bionic-updates/universe amd64 Packages [2,184 kB]\n",
            "Get:22 http://ppa.launchpad.net/c2d4u.team/c2d4u4.0+/ubuntu bionic/main amd64 Packages [906 kB]\n",
            "Get:23 http://archive.ubuntu.com/ubuntu bionic-updates/restricted amd64 Packages [480 kB]\n",
            "Get:24 http://archive.ubuntu.com/ubuntu bionic-updates/main amd64 Packages [2,616 kB]\n",
            "Get:25 http://archive.ubuntu.com/ubuntu bionic-updates/multiverse amd64 Packages [33.5 kB]\n",
            "Get:26 http://ppa.launchpad.net/deadsnakes/ppa/ubuntu bionic/main amd64 Packages [40.9 kB]\n",
            "Fetched 13.2 MB in 4s (3,568 kB/s)\n",
            "Reading package lists... Done\n"
          ],
          "name": "stdout"
        }
      ]
    },
    {
      "cell_type": "code",
      "metadata": {
        "id": "xdBT2MFBKbYF"
      },
      "source": [
        "# Start Spark session\n",
        "from pyspark.sql import SparkSession\n",
        "spark = SparkSession.builder.appName(\"NbaChamps\").getOrCreate()"
      ],
      "execution_count": null,
      "outputs": []
    }
  ]
}